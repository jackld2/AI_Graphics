{
  "nbformat": 4,
  "nbformat_minor": 0,
  "metadata": {
    "colab": {
      "name": "CT.ipynb",
      "provenance": []
    },
    "kernelspec": {
      "name": "python3",
      "display_name": "Python 3"
    },
    "language_info": {
      "name": "python"
    },
    "accelerator": "GPU",
    "widgets": {
      "application/vnd.jupyter.widget-state+json": {
        "8c8200eab3a04600900d755c248d0431": {
          "model_module": "@jupyter-widgets/controls",
          "model_name": "HBoxModel",
          "state": {
            "_view_name": "HBoxView",
            "_dom_classes": [],
            "_model_name": "HBoxModel",
            "_view_module": "@jupyter-widgets/controls",
            "_model_module_version": "1.5.0",
            "_view_count": null,
            "_view_module_version": "1.5.0",
            "box_style": "",
            "layout": "IPY_MODEL_58128ced5ec64eccad797faf1ce7fefe",
            "_model_module": "@jupyter-widgets/controls",
            "children": [
              "IPY_MODEL_04922c21679d4ca48f83685721f3ac1c",
              "IPY_MODEL_b3b44659abf1458da782f198a23abce6",
              "IPY_MODEL_12b2fb238eec4fe9bd002a3b69a79efa"
            ]
          }
        },
        "58128ced5ec64eccad797faf1ce7fefe": {
          "model_module": "@jupyter-widgets/base",
          "model_name": "LayoutModel",
          "state": {
            "_view_name": "LayoutView",
            "grid_template_rows": null,
            "right": null,
            "justify_content": null,
            "_view_module": "@jupyter-widgets/base",
            "overflow": null,
            "_model_module_version": "1.2.0",
            "_view_count": null,
            "flex_flow": null,
            "width": null,
            "min_width": null,
            "border": null,
            "align_items": null,
            "bottom": null,
            "_model_module": "@jupyter-widgets/base",
            "top": null,
            "grid_column": null,
            "overflow_y": null,
            "overflow_x": null,
            "grid_auto_flow": null,
            "grid_area": null,
            "grid_template_columns": null,
            "flex": null,
            "_model_name": "LayoutModel",
            "justify_items": null,
            "grid_row": null,
            "max_height": null,
            "align_content": null,
            "visibility": null,
            "align_self": null,
            "height": null,
            "min_height": null,
            "padding": null,
            "grid_auto_rows": null,
            "grid_gap": null,
            "max_width": null,
            "order": null,
            "_view_module_version": "1.2.0",
            "grid_template_areas": null,
            "object_position": null,
            "object_fit": null,
            "grid_auto_columns": null,
            "margin": null,
            "display": null,
            "left": null
          }
        },
        "04922c21679d4ca48f83685721f3ac1c": {
          "model_module": "@jupyter-widgets/controls",
          "model_name": "HTMLModel",
          "state": {
            "_view_name": "HTMLView",
            "style": "IPY_MODEL_8cde1124db894af3ac11975dc1d5c040",
            "_dom_classes": [],
            "description": "",
            "_model_name": "HTMLModel",
            "placeholder": "​",
            "_view_module": "@jupyter-widgets/controls",
            "_model_module_version": "1.5.0",
            "value": "train iter: 100%",
            "_view_count": null,
            "_view_module_version": "1.5.0",
            "description_tooltip": null,
            "_model_module": "@jupyter-widgets/controls",
            "layout": "IPY_MODEL_ed7f2a5429d04ce4b01df67a99bc0547"
          }
        },
        "b3b44659abf1458da782f198a23abce6": {
          "model_module": "@jupyter-widgets/controls",
          "model_name": "FloatProgressModel",
          "state": {
            "_view_name": "ProgressView",
            "style": "IPY_MODEL_1882e9c298444af1b699e1a6698e3875",
            "_dom_classes": [],
            "description": "",
            "_model_name": "FloatProgressModel",
            "bar_style": "",
            "max": 1000,
            "_view_module": "@jupyter-widgets/controls",
            "_model_module_version": "1.5.0",
            "value": 1000,
            "_view_count": null,
            "_view_module_version": "1.5.0",
            "orientation": "horizontal",
            "min": 0,
            "description_tooltip": null,
            "_model_module": "@jupyter-widgets/controls",
            "layout": "IPY_MODEL_deae062e94184509ab104321d33afd85"
          }
        },
        "12b2fb238eec4fe9bd002a3b69a79efa": {
          "model_module": "@jupyter-widgets/controls",
          "model_name": "HTMLModel",
          "state": {
            "_view_name": "HTMLView",
            "style": "IPY_MODEL_77fd234935e04be0aebc95d44d4ab4b5",
            "_dom_classes": [],
            "description": "",
            "_model_name": "HTMLModel",
            "placeholder": "​",
            "_view_module": "@jupyter-widgets/controls",
            "_model_module_version": "1.5.0",
            "value": " 999/1000 [01:11&lt;00:00, 14.14it/s]",
            "_view_count": null,
            "_view_module_version": "1.5.0",
            "description_tooltip": null,
            "_model_module": "@jupyter-widgets/controls",
            "layout": "IPY_MODEL_d4d74e4e6df8436590d08e959d7d7abc"
          }
        },
        "8cde1124db894af3ac11975dc1d5c040": {
          "model_module": "@jupyter-widgets/controls",
          "model_name": "DescriptionStyleModel",
          "state": {
            "_view_name": "StyleView",
            "_model_name": "DescriptionStyleModel",
            "description_width": "",
            "_view_module": "@jupyter-widgets/base",
            "_model_module_version": "1.5.0",
            "_view_count": null,
            "_view_module_version": "1.2.0",
            "_model_module": "@jupyter-widgets/controls"
          }
        },
        "ed7f2a5429d04ce4b01df67a99bc0547": {
          "model_module": "@jupyter-widgets/base",
          "model_name": "LayoutModel",
          "state": {
            "_view_name": "LayoutView",
            "grid_template_rows": null,
            "right": null,
            "justify_content": null,
            "_view_module": "@jupyter-widgets/base",
            "overflow": null,
            "_model_module_version": "1.2.0",
            "_view_count": null,
            "flex_flow": null,
            "width": null,
            "min_width": null,
            "border": null,
            "align_items": null,
            "bottom": null,
            "_model_module": "@jupyter-widgets/base",
            "top": null,
            "grid_column": null,
            "overflow_y": null,
            "overflow_x": null,
            "grid_auto_flow": null,
            "grid_area": null,
            "grid_template_columns": null,
            "flex": null,
            "_model_name": "LayoutModel",
            "justify_items": null,
            "grid_row": null,
            "max_height": null,
            "align_content": null,
            "visibility": null,
            "align_self": null,
            "height": null,
            "min_height": null,
            "padding": null,
            "grid_auto_rows": null,
            "grid_gap": null,
            "max_width": null,
            "order": null,
            "_view_module_version": "1.2.0",
            "grid_template_areas": null,
            "object_position": null,
            "object_fit": null,
            "grid_auto_columns": null,
            "margin": null,
            "display": null,
            "left": null
          }
        },
        "1882e9c298444af1b699e1a6698e3875": {
          "model_module": "@jupyter-widgets/controls",
          "model_name": "ProgressStyleModel",
          "state": {
            "_view_name": "StyleView",
            "_model_name": "ProgressStyleModel",
            "description_width": "",
            "_view_module": "@jupyter-widgets/base",
            "_model_module_version": "1.5.0",
            "_view_count": null,
            "_view_module_version": "1.2.0",
            "bar_color": null,
            "_model_module": "@jupyter-widgets/controls"
          }
        },
        "deae062e94184509ab104321d33afd85": {
          "model_module": "@jupyter-widgets/base",
          "model_name": "LayoutModel",
          "state": {
            "_view_name": "LayoutView",
            "grid_template_rows": null,
            "right": null,
            "justify_content": null,
            "_view_module": "@jupyter-widgets/base",
            "overflow": null,
            "_model_module_version": "1.2.0",
            "_view_count": null,
            "flex_flow": null,
            "width": null,
            "min_width": null,
            "border": null,
            "align_items": null,
            "bottom": null,
            "_model_module": "@jupyter-widgets/base",
            "top": null,
            "grid_column": null,
            "overflow_y": null,
            "overflow_x": null,
            "grid_auto_flow": null,
            "grid_area": null,
            "grid_template_columns": null,
            "flex": null,
            "_model_name": "LayoutModel",
            "justify_items": null,
            "grid_row": null,
            "max_height": null,
            "align_content": null,
            "visibility": null,
            "align_self": null,
            "height": null,
            "min_height": null,
            "padding": null,
            "grid_auto_rows": null,
            "grid_gap": null,
            "max_width": null,
            "order": null,
            "_view_module_version": "1.2.0",
            "grid_template_areas": null,
            "object_position": null,
            "object_fit": null,
            "grid_auto_columns": null,
            "margin": null,
            "display": null,
            "left": null
          }
        },
        "77fd234935e04be0aebc95d44d4ab4b5": {
          "model_module": "@jupyter-widgets/controls",
          "model_name": "DescriptionStyleModel",
          "state": {
            "_view_name": "StyleView",
            "_model_name": "DescriptionStyleModel",
            "description_width": "",
            "_view_module": "@jupyter-widgets/base",
            "_model_module_version": "1.5.0",
            "_view_count": null,
            "_view_module_version": "1.2.0",
            "_model_module": "@jupyter-widgets/controls"
          }
        },
        "d4d74e4e6df8436590d08e959d7d7abc": {
          "model_module": "@jupyter-widgets/base",
          "model_name": "LayoutModel",
          "state": {
            "_view_name": "LayoutView",
            "grid_template_rows": null,
            "right": null,
            "justify_content": null,
            "_view_module": "@jupyter-widgets/base",
            "overflow": null,
            "_model_module_version": "1.2.0",
            "_view_count": null,
            "flex_flow": null,
            "width": null,
            "min_width": null,
            "border": null,
            "align_items": null,
            "bottom": null,
            "_model_module": "@jupyter-widgets/base",
            "top": null,
            "grid_column": null,
            "overflow_y": null,
            "overflow_x": null,
            "grid_auto_flow": null,
            "grid_area": null,
            "grid_template_columns": null,
            "flex": null,
            "_model_name": "LayoutModel",
            "justify_items": null,
            "grid_row": null,
            "max_height": null,
            "align_content": null,
            "visibility": null,
            "align_self": null,
            "height": null,
            "min_height": null,
            "padding": null,
            "grid_auto_rows": null,
            "grid_gap": null,
            "max_width": null,
            "order": null,
            "_view_module_version": "1.2.0",
            "grid_template_areas": null,
            "object_position": null,
            "object_fit": null,
            "grid_auto_columns": null,
            "margin": null,
            "display": null,
            "left": null
          }
        },
        "9648adc19afe4465bfac45b24267cf8e": {
          "model_module": "@jupyter-widgets/controls",
          "model_name": "HBoxModel",
          "state": {
            "_view_name": "HBoxView",
            "_dom_classes": [],
            "_model_name": "HBoxModel",
            "_view_module": "@jupyter-widgets/controls",
            "_model_module_version": "1.5.0",
            "_view_count": null,
            "_view_module_version": "1.5.0",
            "box_style": "",
            "layout": "IPY_MODEL_928e3b98a9f54949807fb55725b13419",
            "_model_module": "@jupyter-widgets/controls",
            "children": [
              "IPY_MODEL_899cddbd060047bcbcd0d010f847bf1e",
              "IPY_MODEL_2079d22a2b0e4ddcbbe35138e9f753e8",
              "IPY_MODEL_9101a72cb3df483791bf5cc6037b1d34"
            ]
          }
        },
        "928e3b98a9f54949807fb55725b13419": {
          "model_module": "@jupyter-widgets/base",
          "model_name": "LayoutModel",
          "state": {
            "_view_name": "LayoutView",
            "grid_template_rows": null,
            "right": null,
            "justify_content": null,
            "_view_module": "@jupyter-widgets/base",
            "overflow": null,
            "_model_module_version": "1.2.0",
            "_view_count": null,
            "flex_flow": null,
            "width": null,
            "min_width": null,
            "border": null,
            "align_items": null,
            "bottom": null,
            "_model_module": "@jupyter-widgets/base",
            "top": null,
            "grid_column": null,
            "overflow_y": null,
            "overflow_x": null,
            "grid_auto_flow": null,
            "grid_area": null,
            "grid_template_columns": null,
            "flex": null,
            "_model_name": "LayoutModel",
            "justify_items": null,
            "grid_row": null,
            "max_height": null,
            "align_content": null,
            "visibility": null,
            "align_self": null,
            "height": null,
            "min_height": null,
            "padding": null,
            "grid_auto_rows": null,
            "grid_gap": null,
            "max_width": null,
            "order": null,
            "_view_module_version": "1.2.0",
            "grid_template_areas": null,
            "object_position": null,
            "object_fit": null,
            "grid_auto_columns": null,
            "margin": null,
            "display": null,
            "left": null
          }
        },
        "899cddbd060047bcbcd0d010f847bf1e": {
          "model_module": "@jupyter-widgets/controls",
          "model_name": "HTMLModel",
          "state": {
            "_view_name": "HTMLView",
            "style": "IPY_MODEL_b4ba9ffe1a5f4ea9a4529d70dd262546",
            "_dom_classes": [],
            "description": "",
            "_model_name": "HTMLModel",
            "placeholder": "​",
            "_view_module": "@jupyter-widgets/controls",
            "_model_module_version": "1.5.0",
            "value": "train iter: 100%",
            "_view_count": null,
            "_view_module_version": "1.5.0",
            "description_tooltip": null,
            "_model_module": "@jupyter-widgets/controls",
            "layout": "IPY_MODEL_b340cbfd1ca94004bad2569882a8bd60"
          }
        },
        "2079d22a2b0e4ddcbbe35138e9f753e8": {
          "model_module": "@jupyter-widgets/controls",
          "model_name": "FloatProgressModel",
          "state": {
            "_view_name": "ProgressView",
            "style": "IPY_MODEL_8b93b6dda8bc412c86469b6afc067950",
            "_dom_classes": [],
            "description": "",
            "_model_name": "FloatProgressModel",
            "bar_style": "",
            "max": 1000,
            "_view_module": "@jupyter-widgets/controls",
            "_model_module_version": "1.5.0",
            "value": 1000,
            "_view_count": null,
            "_view_module_version": "1.5.0",
            "orientation": "horizontal",
            "min": 0,
            "description_tooltip": null,
            "_model_module": "@jupyter-widgets/controls",
            "layout": "IPY_MODEL_2cca6a9135e94fc283c188f0f75a27b2"
          }
        },
        "9101a72cb3df483791bf5cc6037b1d34": {
          "model_module": "@jupyter-widgets/controls",
          "model_name": "HTMLModel",
          "state": {
            "_view_name": "HTMLView",
            "style": "IPY_MODEL_5e0fb20ab18b4cf18a21fad92ecf88b9",
            "_dom_classes": [],
            "description": "",
            "_model_name": "HTMLModel",
            "placeholder": "​",
            "_view_module": "@jupyter-widgets/controls",
            "_model_module_version": "1.5.0",
            "value": " 1000/1000 [01:51&lt;00:00,  8.90it/s]",
            "_view_count": null,
            "_view_module_version": "1.5.0",
            "description_tooltip": null,
            "_model_module": "@jupyter-widgets/controls",
            "layout": "IPY_MODEL_27f1a1ed0ef04384975838da1b96a7da"
          }
        },
        "b4ba9ffe1a5f4ea9a4529d70dd262546": {
          "model_module": "@jupyter-widgets/controls",
          "model_name": "DescriptionStyleModel",
          "state": {
            "_view_name": "StyleView",
            "_model_name": "DescriptionStyleModel",
            "description_width": "",
            "_view_module": "@jupyter-widgets/base",
            "_model_module_version": "1.5.0",
            "_view_count": null,
            "_view_module_version": "1.2.0",
            "_model_module": "@jupyter-widgets/controls"
          }
        },
        "b340cbfd1ca94004bad2569882a8bd60": {
          "model_module": "@jupyter-widgets/base",
          "model_name": "LayoutModel",
          "state": {
            "_view_name": "LayoutView",
            "grid_template_rows": null,
            "right": null,
            "justify_content": null,
            "_view_module": "@jupyter-widgets/base",
            "overflow": null,
            "_model_module_version": "1.2.0",
            "_view_count": null,
            "flex_flow": null,
            "width": null,
            "min_width": null,
            "border": null,
            "align_items": null,
            "bottom": null,
            "_model_module": "@jupyter-widgets/base",
            "top": null,
            "grid_column": null,
            "overflow_y": null,
            "overflow_x": null,
            "grid_auto_flow": null,
            "grid_area": null,
            "grid_template_columns": null,
            "flex": null,
            "_model_name": "LayoutModel",
            "justify_items": null,
            "grid_row": null,
            "max_height": null,
            "align_content": null,
            "visibility": null,
            "align_self": null,
            "height": null,
            "min_height": null,
            "padding": null,
            "grid_auto_rows": null,
            "grid_gap": null,
            "max_width": null,
            "order": null,
            "_view_module_version": "1.2.0",
            "grid_template_areas": null,
            "object_position": null,
            "object_fit": null,
            "grid_auto_columns": null,
            "margin": null,
            "display": null,
            "left": null
          }
        },
        "8b93b6dda8bc412c86469b6afc067950": {
          "model_module": "@jupyter-widgets/controls",
          "model_name": "ProgressStyleModel",
          "state": {
            "_view_name": "StyleView",
            "_model_name": "ProgressStyleModel",
            "description_width": "",
            "_view_module": "@jupyter-widgets/base",
            "_model_module_version": "1.5.0",
            "_view_count": null,
            "_view_module_version": "1.2.0",
            "bar_color": null,
            "_model_module": "@jupyter-widgets/controls"
          }
        },
        "2cca6a9135e94fc283c188f0f75a27b2": {
          "model_module": "@jupyter-widgets/base",
          "model_name": "LayoutModel",
          "state": {
            "_view_name": "LayoutView",
            "grid_template_rows": null,
            "right": null,
            "justify_content": null,
            "_view_module": "@jupyter-widgets/base",
            "overflow": null,
            "_model_module_version": "1.2.0",
            "_view_count": null,
            "flex_flow": null,
            "width": null,
            "min_width": null,
            "border": null,
            "align_items": null,
            "bottom": null,
            "_model_module": "@jupyter-widgets/base",
            "top": null,
            "grid_column": null,
            "overflow_y": null,
            "overflow_x": null,
            "grid_auto_flow": null,
            "grid_area": null,
            "grid_template_columns": null,
            "flex": null,
            "_model_name": "LayoutModel",
            "justify_items": null,
            "grid_row": null,
            "max_height": null,
            "align_content": null,
            "visibility": null,
            "align_self": null,
            "height": null,
            "min_height": null,
            "padding": null,
            "grid_auto_rows": null,
            "grid_gap": null,
            "max_width": null,
            "order": null,
            "_view_module_version": "1.2.0",
            "grid_template_areas": null,
            "object_position": null,
            "object_fit": null,
            "grid_auto_columns": null,
            "margin": null,
            "display": null,
            "left": null
          }
        },
        "5e0fb20ab18b4cf18a21fad92ecf88b9": {
          "model_module": "@jupyter-widgets/controls",
          "model_name": "DescriptionStyleModel",
          "state": {
            "_view_name": "StyleView",
            "_model_name": "DescriptionStyleModel",
            "description_width": "",
            "_view_module": "@jupyter-widgets/base",
            "_model_module_version": "1.5.0",
            "_view_count": null,
            "_view_module_version": "1.2.0",
            "_model_module": "@jupyter-widgets/controls"
          }
        },
        "27f1a1ed0ef04384975838da1b96a7da": {
          "model_module": "@jupyter-widgets/base",
          "model_name": "LayoutModel",
          "state": {
            "_view_name": "LayoutView",
            "grid_template_rows": null,
            "right": null,
            "justify_content": null,
            "_view_module": "@jupyter-widgets/base",
            "overflow": null,
            "_model_module_version": "1.2.0",
            "_view_count": null,
            "flex_flow": null,
            "width": null,
            "min_width": null,
            "border": null,
            "align_items": null,
            "bottom": null,
            "_model_module": "@jupyter-widgets/base",
            "top": null,
            "grid_column": null,
            "overflow_y": null,
            "overflow_x": null,
            "grid_auto_flow": null,
            "grid_area": null,
            "grid_template_columns": null,
            "flex": null,
            "_model_name": "LayoutModel",
            "justify_items": null,
            "grid_row": null,
            "max_height": null,
            "align_content": null,
            "visibility": null,
            "align_self": null,
            "height": null,
            "min_height": null,
            "padding": null,
            "grid_auto_rows": null,
            "grid_gap": null,
            "max_width": null,
            "order": null,
            "_view_module_version": "1.2.0",
            "grid_template_areas": null,
            "object_position": null,
            "object_fit": null,
            "grid_auto_columns": null,
            "margin": null,
            "display": null,
            "left": null
          }
        }
      }
    }
  },
  "cells": [
    {
      "cell_type": "code",
      "metadata": {
        "colab": {
          "base_uri": "https://localhost:8080/"
        },
        "id": "2e_gznUMeMFq",
        "outputId": "a912c115-f7cb-479a-ec47-597596b42d48"
      },
      "source": [
        "!pip install -q livelossplot\n",
        "!pip install phantominator"
      ],
      "execution_count": null,
      "outputs": [
        {
          "output_type": "stream",
          "text": [
            "Collecting phantominator\n",
            "  Downloading https://files.pythonhosted.org/packages/c1/5b/7d56e72eabe20e0d60ee4ac246efe49af1cd348a95e3cde15c2710462203/phantominator-0.6.4-py3-none-any.whl\n",
            "Requirement already satisfied: scipy>=1.4.1 in /usr/local/lib/python3.7/dist-packages (from phantominator) (1.4.1)\n",
            "Requirement already satisfied: numpy>=1.18.0 in /usr/local/lib/python3.7/dist-packages (from phantominator) (1.19.5)\n",
            "Requirement already satisfied: matplotlib>=3.0.0 in /usr/local/lib/python3.7/dist-packages (from phantominator) (3.2.2)\n",
            "Collecting ssfp>=0.4.2\n",
            "\u001b[?25l  Downloading https://files.pythonhosted.org/packages/61/2a/02dfc95752a8ece56bcfaad37acb370a3d97fca50f23fd75e316fe48102e/ssfp-1.0.0-py3-none-any.whl (60kB)\n",
            "\u001b[K     |████████████████████████████████| 61kB 5.6MB/s \n",
            "\u001b[?25hRequirement already satisfied: pyparsing!=2.0.4,!=2.1.2,!=2.1.6,>=2.0.1 in /usr/local/lib/python3.7/dist-packages (from matplotlib>=3.0.0->phantominator) (2.4.7)\n",
            "Requirement already satisfied: python-dateutil>=2.1 in /usr/local/lib/python3.7/dist-packages (from matplotlib>=3.0.0->phantominator) (2.8.1)\n",
            "Requirement already satisfied: cycler>=0.10 in /usr/local/lib/python3.7/dist-packages (from matplotlib>=3.0.0->phantominator) (0.10.0)\n",
            "Requirement already satisfied: kiwisolver>=1.0.1 in /usr/local/lib/python3.7/dist-packages (from matplotlib>=3.0.0->phantominator) (1.3.1)\n",
            "Collecting tqdm>=4.42.0\n",
            "\u001b[?25l  Downloading https://files.pythonhosted.org/packages/72/8a/34efae5cf9924328a8f34eeb2fdaae14c011462d9f0e3fcded48e1266d1c/tqdm-4.60.0-py2.py3-none-any.whl (75kB)\n",
            "\u001b[K     |████████████████████████████████| 81kB 6.7MB/s \n",
            "\u001b[?25hRequirement already satisfied: scikit-image>=0.15.0 in /usr/local/lib/python3.7/dist-packages (from ssfp>=0.4.2->phantominator) (0.16.2)\n",
            "Collecting ellipsinator>=0.2.1\n",
            "  Downloading https://files.pythonhosted.org/packages/fa/15/c1db9b5d2d8541faecbbc72090492cbd35fffd408c3b801d7a91670d8f03/ellipsinator-0.2.1-py3-none-any.whl\n",
            "Requirement already satisfied: six>=1.5 in /usr/local/lib/python3.7/dist-packages (from python-dateutil>=2.1->matplotlib>=3.0.0->phantominator) (1.15.0)\n",
            "Requirement already satisfied: networkx>=2.0 in /usr/local/lib/python3.7/dist-packages (from scikit-image>=0.15.0->ssfp>=0.4.2->phantominator) (2.5.1)\n",
            "Requirement already satisfied: imageio>=2.3.0 in /usr/local/lib/python3.7/dist-packages (from scikit-image>=0.15.0->ssfp>=0.4.2->phantominator) (2.4.1)\n",
            "Requirement already satisfied: pillow>=4.3.0 in /usr/local/lib/python3.7/dist-packages (from scikit-image>=0.15.0->ssfp>=0.4.2->phantominator) (7.1.2)\n",
            "Requirement already satisfied: PyWavelets>=0.4.0 in /usr/local/lib/python3.7/dist-packages (from scikit-image>=0.15.0->ssfp>=0.4.2->phantominator) (1.1.1)\n",
            "Requirement already satisfied: decorator<5,>=4.3 in /usr/local/lib/python3.7/dist-packages (from networkx>=2.0->scikit-image>=0.15.0->ssfp>=0.4.2->phantominator) (4.4.2)\n",
            "Installing collected packages: tqdm, ellipsinator, ssfp, phantominator\n",
            "  Found existing installation: tqdm 4.41.1\n",
            "    Uninstalling tqdm-4.41.1:\n",
            "      Successfully uninstalled tqdm-4.41.1\n",
            "Successfully installed ellipsinator-0.2.1 phantominator-0.6.4 ssfp-1.0.0 tqdm-4.60.0\n"
          ],
          "name": "stdout"
        }
      ]
    },
    {
      "cell_type": "code",
      "metadata": {
        "id": "J3TGEitEec2W"
      },
      "source": [
        "import jax\n",
        "from jax import random, grad, jit, vmap\n",
        "from jax.config import config\n",
        "import jax.numpy as np\n",
        "from jax.scipy import ndimage\n",
        "from jax.experimental import optimizers, stax\n",
        "import random as py_random\n",
        "import numpy\n",
        "\n",
        "from livelossplot import PlotLosses\n",
        "import matplotlib.pyplot as plt\n",
        "from tqdm.notebook import tqdm as tqdm\n",
        "import os\n",
        "import requests\n",
        "from skimage.transform import radon, rescale\n",
        "from io import BytesIO\n",
        "\n",
        "\n",
        "import cv2\n",
        "import scipy.ndimage\n",
        "from scipy.special import binom\n",
        "\n",
        "from tqdm.notebook import tqdm as tqdm\n",
        "import numpy as onp\n",
        "\n",
        "from phantominator import shepp_logan, ct_shepp_logan, ct_modified_shepp_logan_params_2d\n",
        "\n",
        "## Random seed\n",
        "rand_key = random.PRNGKey(56)\n",
        "\n",
        "prop_cycle = plt.rcParams['axes.prop_cycle']\n",
        "colors = prop_cycle.by_key()['color']\n",
        "#resolution\n",
        "RES = 512"
      ],
      "execution_count": null,
      "outputs": []
    },
    {
      "cell_type": "code",
      "metadata": {
        "id": "K6eFMKbmekSe"
      },
      "source": [
        "def get_shepp_dataset(rand_key):\n",
        "\n",
        "    ct_params = np.array(ct_modified_shepp_logan_params_2d())\n",
        "    i_ct_params = ct_params + random.normal(rand_key, shape=ct_params.shape)/20.0\n",
        "    return np.clip(ct_shepp_logan((RES,RES), E=i_ct_params), 0.0, 1.0)"
      ],
      "execution_count": null,
      "outputs": []
    },
    {
      "cell_type": "code",
      "metadata": {
        "colab": {
          "base_uri": "https://localhost:8080/",
          "height": 269
        },
        "id": "QHyLublWeth5",
        "outputId": "00ffc9df-262e-4f30-91ad-6079071c5c5f"
      },
      "source": [
        "visualize = True #@param {type:\"boolean\"}\n",
        "\n",
        "#@markdown Shepp Dataset\n",
        "load_shepp = True #@param {type:\"boolean\"}\n",
        "\n",
        "phantom = get_shepp_dataset(rand_key)\n",
        "\n",
        "x1 = np.linspace(0, 1, RES+1)[:-1] # use full image resolution \n",
        "x_train = np.stack(np.meshgrid(x1,x1), axis=-1)\n",
        "x_test = x_train\n",
        "\n",
        "def plot_dataset(phantom):\n",
        "    plt.imshow(phantom, 'gray')\n",
        "    plt.colorbar()\n",
        "    plt.show()\n",
        "\n",
        "plot_dataset(phantom)\n",
        "\n",
        "        "
      ],
      "execution_count": null,
      "outputs": [
        {
          "output_type": "display_data",
          "data": {
            "image/png": "[encoded data removed]",
            "text/plain": [
              "<Figure size 432x288 with 2 Axes>"
            ]
          },
          "metadata": {
            "tags": [],
            "needs_background": "light"
          }
        }
      ]
    },
    {
      "cell_type": "code",
      "metadata": {
        "id": "st_vuIRce6BX"
      },
      "source": [
        "#@title Define ReLU Network\n",
        "\n",
        "network_depth = 4 #@param\n",
        "network_width = 256 #@param\n",
        "\n",
        "def make_network(num_layers, num_channels):\n",
        "  layers = []\n",
        "  for i in range(num_layers-1):\n",
        "      layers.append(stax.Dense(num_channels))\n",
        "      layers.append(stax.Relu)\n",
        "  layers.append(stax.Dense(1))\n",
        "  layers.append(stax.Sigmoid)\n",
        "  return stax.serial(*layers)\n",
        "\n",
        "init_fn, apply_fn = make_network(network_depth, network_width)"
      ],
      "execution_count": null,
      "outputs": []
    },
    {
      "cell_type": "code",
      "metadata": {
        "id": "GMOzNwBPe84U"
      },
      "source": [
        "#@title Embedding Definitions\n",
        "\n",
        "embedding_size = 256 #@param\n",
        "\n",
        "enc_dict = {}\n",
        "\n",
        "input_encoder = lambda x, a, b: np.concatenate([a * np.sin((2.*np.pi*x) @ b.T), \n",
        "                                                a * np.cos((2.*np.pi*x) @ b.T)], axis=-1) #/ np.linalg.norm(a) * np.sqrt(a.shape[0])\n",
        "\n",
        "def compute_new_posenc(mres):\n",
        "  bvals = 2.**np.linspace(0,mres,embedding_size//2) - 1.\n",
        "  bvals = np.stack([bvals, np.zeros_like(bvals)], -1)\n",
        "  bvals = np.concatenate([bvals, np.roll(bvals, 1, axis=-1)], 0) + 0\n",
        "  avals = np.ones((bvals.shape[0])) \n",
        "  return avals, bvals\n",
        "\n",
        "def compute_basic():\n",
        "  bvals = np.eye(2)\n",
        "  avals = np.ones((bvals.shape[0])) \n",
        "  return avals, bvals\n",
        "\n",
        "def visualize_encoders(enc_dict, keys=None):\n",
        "    if keys is None:\n",
        "        keys = enc_dict.keys()\n",
        "\n",
        "    P = len(keys)\n",
        "    plt.figure(figsize=(15,5))\n",
        "    slices = {}\n",
        "    for i, enc in enumerate(keys):\n",
        "        plt.subplot(1,P,i+1)\n",
        "        avals, bvals = enc_dict[enc]\n",
        "        plt.scatter(bvals[:,0], bvals[:,1], marker='o', s=10, label=enc)\n",
        "        plt.title(f'{enc} b values')\n",
        "        plt.axis('equal')\n",
        "    plt.show()"
      ],
      "execution_count": null,
      "outputs": []
    },
    {
      "cell_type": "code",
      "metadata": {
        "id": "tI-wqXxse-Jx"
      },
      "source": [
        "@jit\n",
        "def ct_project(img, theta):\n",
        "    y, x = np.meshgrid(np.arange(int(img.shape[0]), dtype=np.float32)/int(img.shape[0]) - 0.5, np.arange(int(img.shape[1]), dtype=np.float32)/int(img.shape[1]) - 0.5, indexing='ij')\n",
        "    x_rot = x*np.cos(theta) - y*np.sin(theta)\n",
        "    y_rot = x*np.sin(theta) + y*np.cos(theta)\n",
        "    x_rot = (x_rot + 0.5)*img.shape[1]\n",
        "    y_rot = (y_rot + 0.5)*img.shape[0]\n",
        "    sample_coords = np.stack([y_rot, x_rot], axis=0)\n",
        "    resampled = ndimage.map_coordinates(img, sample_coords, 0).reshape(img.shape)\n",
        "    return resampled.mean(axis=0)[:,None,...]\n",
        "\n",
        "ct_project_batch = vmap(ct_project, (None, 0), 0)"
      ],
      "execution_count": null,
      "outputs": []
    },
    {
      "cell_type": "code",
      "metadata": {
        "id": "f6XRC_K8fC28"
      },
      "source": [
        "run_model = jit(lambda params, x: np.reshape(apply_fn(params, np.reshape(x, (-1, x.shape[-1]))), (x.shape[0], x.shape[1])))\n",
        "compute_projs = jit(lambda params, x, thetas: ct_project_batch(run_model(params, x), thetas))\n",
        "model_loss_proj = jit(lambda params, x, y, thetas: .5 * np.mean((compute_projs(params, x, thetas) - y) ** 2))\n",
        "model_loss = jit(lambda params, x, y, thetas, image: .5 * np.abs(np.mean((np.clip(run_model(params, x), 0.0, 1.0) - image) ** 2)))\n",
        "model_psnr = jit(lambda params, x, y, thetas, image: -10 * np.log10(2.*model_loss(params, x, y, thetas, image)))\n",
        "model_grad_loss = jit(lambda params, x, y, thetas, image: grad(model_loss_proj)(params, x, y, thetas))\n",
        "\n",
        "def train_model(lr, iters, train_data, test_data):\n",
        "    opt_init, opt_update, get_params = optimizers.adam(lr)\n",
        "    opt_update = jit(opt_update)\n",
        "\n",
        "    _, params = init_fn(rand_key, (-1, train_data[0].shape[-1]))\n",
        "    opt_state = opt_init(params)\n",
        "\n",
        "\n",
        "\n",
        "    for i in tqdm(range(iters), desc='train iter', leave=False):\n",
        "        opt_state = opt_update(i, model_grad_loss(get_params(opt_state), *train_data), opt_state)\n",
        "    results = {\n",
        "        'state': get_params(opt_state),\n",
        "        'train_psnrs': model_psnr(get_params(opt_state), *train_data),\n",
        "        'test_psnrs': model_psnr(get_params(opt_state), *test_data),\n",
        "        'final_test' : run_model(get_params(opt_state), test_data[0])\n",
        "    }\n",
        "    return results"
      ],
      "execution_count": null,
      "outputs": []
    },
    {
      "cell_type": "code",
      "metadata": {
        "id": "phq6oMJVga1E"
      },
      "source": [
        "params = {\n",
        "    'shepp': {\n",
        "        'lr': 1e-3,\n",
        "        'no_enc_lr': 1e-2,\n",
        "        'basic_lr': 1e-2,\n",
        "        'gridopt_lr': 1e-1,\n",
        "        'posenc_scale': 3,\n",
        "        'gaussian_scale': 4,\n",
        "    }\n",
        "}"
      ],
      "execution_count": null,
      "outputs": []
    },
    {
      "cell_type": "code",
      "metadata": {
        "colab": {
          "base_uri": "https://localhost:8080/",
          "height": 17,
          "referenced_widgets": [
            "8c8200eab3a04600900d755c248d0431",
            "58128ced5ec64eccad797faf1ce7fefe",
            "04922c21679d4ca48f83685721f3ac1c",
            "b3b44659abf1458da782f198a23abce6",
            "12b2fb238eec4fe9bd002a3b69a79efa",
            "8cde1124db894af3ac11975dc1d5c040",
            "ed7f2a5429d04ce4b01df67a99bc0547",
            "1882e9c298444af1b699e1a6698e3875",
            "deae062e94184509ab104321d33afd85",
            "77fd234935e04be0aebc95d44d4ab4b5",
            "d4d74e4e6df8436590d08e959d7d7abc",
            "9648adc19afe4465bfac45b24267cf8e",
            "928e3b98a9f54949807fb55725b13419",
            "899cddbd060047bcbcd0d010f847bf1e",
            "2079d22a2b0e4ddcbbe35138e9f753e8",
            "9101a72cb3df483791bf5cc6037b1d34",
            "b4ba9ffe1a5f4ea9a4529d70dd262546",
            "b340cbfd1ca94004bad2569882a8bd60",
            "8b93b6dda8bc412c86469b6afc067950",
            "2cca6a9135e94fc283c188f0f75a27b2",
            "5e0fb20ab18b4cf18a21fad92ecf88b9",
            "27f1a1ed0ef04384975838da1b96a7da"
          ]
        },
        "id": "UeyRNbiQgd3c",
        "outputId": "912b8024-61c0-4db3-ca16-e03352f504b0"
      },
      "source": [
        "training_steps =  1000#@param\n",
        "num_thetas = 20#@param\n",
        "\n",
        "\n",
        "thetas = np.linspace(0.0, np.pi, num_thetas+1)[:-1]\n",
        "\n",
        "outputs = {}\n",
        "target_distribution = 'shepp'\n",
        "\n",
        "# no encoding\n",
        "lr = params[target_distribution]['no_enc_lr']\n",
        "outputs['no_encoding'] = []\n",
        "# compute projections\n",
        "y_train = ct_project_batch(phantom, thetas)\n",
        "y_test = y_train # don't need extra projs for CT (performance is on recon.)\n",
        "outputs['no_encoding'].append(train_model(lr, training_steps, \n",
        "                                          (x_train, y_train, thetas, phantom), \n",
        "                                          (x_test, y_test, thetas, phantom)))\n",
        "\n",
        "\n",
        "# gaussian\n",
        "bvals = random.normal(rand_key, (embedding_size, 2)) * params[target_distribution]['gaussian_scale']\n",
        "avals = np.ones((bvals.shape[0])) \n",
        "lr = params[target_distribution]['lr']\n",
        "outputs['gaussian'] = []\n",
        "# compute projections\n",
        "y_train = ct_project_batch(phantom, thetas)\n",
        "y_test = y_train # don't need extra projs for CT (performance is on recon.)\n",
        "train_data = (input_encoder(x_train, avals, bvals), y_train, thetas, phantom)\n",
        "test_data = (input_encoder(x_test, avals, bvals), y_test, thetas, phantom)\n",
        "outputs['gaussian'].append(train_model(lr, training_steps, train_data, test_data))\n",
        "\n",
        "\n",
        "\n",
        "\n",
        "\n",
        "\n"
      ],
      "execution_count": null,
      "outputs": [
        {
          "output_type": "display_data",
          "data": {
            "application/vnd.jupyter.widget-view+json": {
              "model_id": "8c8200eab3a04600900d755c248d0431",
              "version_minor": 0,
              "version_major": 2
            },
            "text/plain": [
              "train iter:   0%|          | 0/1000 [00:00<?, ?it/s]"
            ]
          },
          "metadata": {
            "tags": []
          }
        },
        {
          "output_type": "display_data",
          "data": {
            "application/vnd.jupyter.widget-view+json": {
              "model_id": "9648adc19afe4465bfac45b24267cf8e",
              "version_minor": 0,
              "version_major": 2
            },
            "text/plain": [
              "train iter:   0%|          | 0/1000 [00:00<?, ?it/s]"
            ]
          },
          "metadata": {
            "tags": []
          }
        }
      ]
    },
    {
      "cell_type": "code",
      "metadata": {
        "colab": {
          "base_uri": "https://localhost:8080/",
          "height": 1000
        },
        "id": "M4NIjz99jteq",
        "outputId": "1c33ee93-0175-474c-b581-9a3f6875552a"
      },
      "source": [
        "print('----------------------------------------')\n",
        "print('                  Test')\n",
        "print('----------------------------------------')\n",
        "\n",
        "\n",
        "\n",
        "\n",
        "plt.imshow(outputs['no_encoding'][0]['final_test'], 'gray')\n",
        "plt.title('No embedding')\n",
        "plt.colorbar()\n",
        "plt.show()\n",
        "\n",
        "plt.imshow(outputs['gaussian'][0]['final_test'], 'gray')\n",
        "plt.title('Gaussian')\n",
        "plt.colorbar()\n",
        "plt.show()\n",
        "\n",
        "\n",
        "plt.imshow(phantom, 'gray')\n",
        "plt.title('truth test')\n",
        "plt.colorbar()\n",
        "plt.show()\n",
        "\n",
        "print(outputs['no_encoding'][0]['train_psnrs'])\n",
        "print(outputs['gaussian'][0]['train_psnrs'])\n",
        "\n",
        "def plotSinogram(img):\n",
        "  fig, (ax1, ax2) = plt.subplots(1, 2, figsize=(8, 4.5))\n",
        "  ax1.set_title(\"Original\")\n",
        "  ax1.imshow(img, cmap=plt.cm.Greys_r)\n",
        "  theta = np.linspace(0., 180., max(img.shape), endpoint=False)\n",
        "  imgcpy = numpy.copy(img)\n",
        "  sinogram = radon(imgcpy, theta=theta)\n",
        "  dx, dy = 0.5 * 180.0 / max(imgcpy.shape), 0.5 / sinogram.shape[0]\n",
        "  ax2.set_title(\"Radon transform\\n(Sinogram)\")\n",
        "  ax2.set_xlabel(\"Projection angle (deg)\")\n",
        "  ax2.set_ylabel(\"Projection position (pixels)\")\n",
        "  ax2.imshow(sinogram, cmap=plt.cm.Greys_r,\n",
        "            extent=(-dx, 180.0 + dx, -dy, sinogram.shape[0] + dy),\n",
        "            aspect='auto')\n",
        "  fig.tight_layout()\n",
        "  plt.show()\n",
        "plotSinogram(phantom)\n",
        "plotSinogram(outputs['gaussian'][0]['final_test'])\n",
        "#plt.plot(dar, 'gray')\n",
        "#plt.title('truth test')\n",
        "#plt.colorbar()\n",
        "#plt.show()\n"
      ],
      "execution_count": null,
      "outputs": [
        {
          "output_type": "stream",
          "text": [
            "----------------------------------------\n",
            "                  Test\n",
            "----------------------------------------\n"
          ],
          "name": "stdout"
        },
        {
          "output_type": "display_data",
          "data": {
            "image/png": "[encoded data removed]",
            "text/plain": [
              "<Figure size 432x288 with 2 Axes>"
            ]
          },
          "metadata": {
            "tags": [],
            "needs_background": "light"
          }
        },
        {
          "output_type": "display_data",
          "data": {
            "image/png": "[encoded data removed]",
            "text/plain": [
              "<Figure size 432x288 with 2 Axes>"
            ]
          },
          "metadata": {
            "tags": [],
            "needs_background": "light"
          }
        },
        {
          "output_type": "display_data",
          "data": {
            "image/png": "[encoded data removed]",
            "text/plain": [
              "<Figure size 432x288 with 2 Axes>"
            ]
          },
          "metadata": {
            "tags": [],
            "needs_background": "light"
          }
        },
        {
          "output_type": "stream",
          "text": [
            "13.2456255\n",
            "30.273724\n"
          ],
          "name": "stdout"
        },
        {
          "output_type": "stream",
          "text": [
            "/usr/local/lib/python3.7/dist-packages/skimage/transform/radon_transform.py:87: VisibleDeprecationWarning: Creating an ndarray from ragged nested sequences (which is a list-or-tuple of lists-or-tuples-or ndarrays with different lengths or shapes) is deprecated. If you meant to do this, you must specify 'dtype=object' when creating the ndarray\n",
            "  coords = np.array(np.ogrid[:image.shape[0], :image.shape[1]])\n"
          ],
          "name": "stderr"
        },
        {
          "output_type": "display_data",
          "data": {
            "image/png": "[encoded data removed]",
            "text/plain": [
              "<Figure size 576x324 with 2 Axes>"
            ]
          },
          "metadata": {
            "tags": [],
            "needs_background": "light"
          }
        },
        {
          "output_type": "stream",
          "text": [
            "/usr/local/lib/python3.7/dist-packages/skimage/transform/radon_transform.py:91: UserWarning: Radon transform: image must be zero outside the reconstruction circle\n",
            "  warn('Radon transform: image must be zero outside the '\n"
          ],
          "name": "stderr"
        },
        {
          "output_type": "display_data",
          "data": {
            "image/png": "[encoded data removed]",
            "text/plain": [
              "<Figure size 576x324 with 2 Axes>"
            ]
          },
          "metadata": {
            "tags": [],
            "needs_background": "light"
          }
        }
      ]
    }
  ]
}